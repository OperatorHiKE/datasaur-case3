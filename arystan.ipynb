{
 "cells": [
  {
   "cell_type": "code",
   "execution_count": 1,
   "id": "ee630189",
   "metadata": {},
   "outputs": [],
   "source": [
    "import cv2\n",
    "import tensorflow as tf\n",
    "import numpy as np\n",
    "import os\n",
    "from sklearn.model_selection import train_test_split \n",
    "from tensorflow.keras.utils import to_categorical"
   ]
  },
  {
   "cell_type": "code",
   "execution_count": 2,
   "id": "874ddecc",
   "metadata": {},
   "outputs": [],
   "source": [
    "train_dir = './train'\n",
    "correct_dir = os.path.join(train_dir, 'correct/0-correct')\n",
    "not_brake_stand = os.path.join(train_dir, 'fake/1-not-on-the-brake-stand')\n",
    "from_screen = os.path.join(train_dir, 'fake/2-from-the-screen')\n",
    "from_screen_photoshop = os.path.join(train_dir, 'fake/3-from-the-screen+photoshop')\n",
    "photoshop = os.path.join(train_dir, 'fake/4-photoshop')"
   ]
  },
  {
   "cell_type": "code",
   "execution_count": 4,
   "id": "a2fb2a6a",
   "metadata": {},
   "outputs": [],
   "source": [
    "label_categories = {\n",
    "    'correct': 0,\n",
    "    'not_brake_stand': 1,\n",
    "    'from_screen': 2,\n",
    "    'from_screen_photoshop': 3,\n",
    "    'photoshop': 4\n",
    "}\n",
    "\n",
    "data = []\n",
    "labels = []\n",
    "\n",
    "def classifyImages(dir, label):\n",
    "    for image_file in os.listdir(dir):\n",
    "        image_path = os.path.join(dir, image_file)\n",
    "        image = cv2.imread(image_path)\n",
    "        image = cv2.resize(image, (128, 128))\n",
    "        data.append(image)\n",
    "        labels.append(label)\n",
    "\n",
    "\n",
    "classifyImages(correct_dir, 0)\n",
    "classifyImages(not_brake_stand, 1)\n",
    "classifyImages(from_screen, 2)\n",
    "classifyImages(from_screen_photoshop, 3)\n",
    "classifyImages(photoshop, 4)\n",
    "\n",
    "images = np.array(data)\n",
    "images = images / 255.0 \n",
    "labels = np.array(labels)\n",
    "\n",
    "labels = to_categorical(labels, num_classes=5)\n"
   ]
  },
  {
   "cell_type": "code",
   "execution_count": 5,
   "id": "7741b802",
   "metadata": {},
   "outputs": [],
   "source": [
    "X_train, X_val, y_train, y_val = train_test_split(images, labels, test_size=0.2, random_state=42)"
   ]
  },
  {
   "cell_type": "code",
   "execution_count": 6,
   "id": "e38765d9",
   "metadata": {},
   "outputs": [
    {
     "name": "stdout",
     "output_type": "stream",
     "text": [
      "Model: \"model\"\n",
      "_________________________________________________________________\n",
      " Layer (type)                Output Shape              Param #   \n",
      "=================================================================\n",
      " input_1 (InputLayer)        [(None, 128, 128, 3)]     0         \n",
      "                                                                 \n",
      " conv2d (Conv2D)             (None, 126, 126, 32)      896       \n",
      "                                                                 \n",
      " max_pooling2d (MaxPooling2  (None, 63, 63, 32)        0         \n",
      " D)                                                              \n",
      "                                                                 \n",
      " conv2d_1 (Conv2D)           (None, 61, 61, 64)        18496     \n",
      "                                                                 \n",
      " max_pooling2d_1 (MaxPoolin  (None, 30, 30, 64)        0         \n",
      " g2D)                                                            \n",
      "                                                                 \n",
      " conv2d_2 (Conv2D)           (None, 28, 28, 128)       73856     \n",
      "                                                                 \n",
      " max_pooling2d_2 (MaxPoolin  (None, 14, 14, 128)       0         \n",
      " g2D)                                                            \n",
      "                                                                 \n",
      " flatten (Flatten)           (None, 25088)             0         \n",
      "                                                                 \n",
      " dense (Dense)               (None, 128)               3211392   \n",
      "                                                                 \n",
      " dropout (Dropout)           (None, 128)               0         \n",
      "                                                                 \n",
      " dense_1 (Dense)             (None, 5)                 645       \n",
      "                                                                 \n",
      "=================================================================\n",
      "Total params: 3305285 (12.61 MB)\n",
      "Trainable params: 3305285 (12.61 MB)\n",
      "Non-trainable params: 0 (0.00 Byte)\n",
      "_________________________________________________________________\n"
     ]
    }
   ],
   "source": [
    "import tensorflow as tf\n",
    "from tensorflow.keras.layers import Input, Conv2D, MaxPooling2D, Flatten, Dense, Dropout\n",
    "from tensorflow.keras.models import Model\n",
    "\n",
    "input_layer = Input(shape=(128, 128, 3)) \n",
    "\n",
    "# Convolutional layers\n",
    "conv1 = Conv2D(32, (3, 3), activation='relu')(input_layer)\n",
    "pool1 = MaxPooling2D((2, 2))(conv1)\n",
    "conv2 = Conv2D(64, (3, 3), activation='relu')(pool1)\n",
    "pool2 = MaxPooling2D((2, 2))(conv2)\n",
    "conv3 = Conv2D(128, (3, 3), activation='relu')(pool2)\n",
    "pool3 = MaxPooling2D((2, 2))(conv3)\n",
    "flatten = Flatten()(pool3)\n",
    "dense1 = Dense(128, activation='relu')(flatten)\n",
    "dropout = Dropout(0.5)(dense1)\n",
    "output_layer = Dense(5, activation='softmax')(dropout)\n",
    "\n",
    "model = Model(inputs=input_layer, outputs=output_layer)\n",
    "\n",
    "model.compile(optimizer='adam', loss='categorical_crossentropy', metrics=['accuracy'])\n",
    "\n",
    "model.summary()\n"
   ]
  },
  {
   "cell_type": "code",
   "execution_count": null,
   "id": "82e32ea4",
   "metadata": {},
   "outputs": [
    {
     "name": "stdout",
     "output_type": "stream",
     "text": [
      "Epoch 1/6\n",
      "114/165 [===================>..........] - ETA: 15s - loss: 0.7897 - accuracy: 0.7574"
     ]
    }
   ],
   "source": [
    "history = model.fit(X_train, y_train, epochs=6, batch_size=32, validation_data=(X_val, y_val))"
   ]
  },
  {
   "cell_type": "code",
   "execution_count": null,
   "id": "d4483edd",
   "metadata": {},
   "outputs": [],
   "source": [
    "model.save('a5.h5')"
   ]
  },
  {
   "cell_type": "code",
   "execution_count": null,
   "id": "13a168a0",
   "metadata": {},
   "outputs": [],
   "source": [
    "test_dir = './test'\n",
    "test_data = []\n",
    "for file in os.listdir(test_dir):\n",
    "    img_path = os.path.join(test_dir, file)\n",
    "    try:\n",
    "        img = cv2.imread(img_path)\n",
    "        if img is not None:\n",
    "            img = cv2.resize(img, (128,128))\n",
    "            test_data.append(img)\n",
    "        else:\n",
    "            print(f\"Skipping {file}\")\n",
    "    except e:\n",
    "        print(e)\n",
    "        \n",
    "test_data = np.array(test_data) / 255.0\n",
    "\n",
    "\n"
   ]
  },
  {
   "cell_type": "code",
   "execution_count": null,
   "id": "53ce045a",
   "metadata": {},
   "outputs": [],
   "source": [
    "predict = model.predict(test_data)"
   ]
  },
  {
   "cell_type": "code",
   "execution_count": null,
   "id": "404bafe0",
   "metadata": {},
   "outputs": [],
   "source": [
    "predicted_labels = np.argmax(predict, axis=1)\n"
   ]
  },
  {
   "cell_type": "code",
   "execution_count": null,
   "id": "e970b0e9",
   "metadata": {},
   "outputs": [],
   "source": [
    "for i, file in enumerate(os.listdir(test_dir)):\n",
    "    print(f\"File: {file}, Predicted Label: {predicted_labels[i]}\")"
   ]
  },
  {
   "cell_type": "code",
   "execution_count": null,
   "id": "31d42889",
   "metadata": {},
   "outputs": [],
   "source": [
    "import os\n",
    "import shutil\n",
    "from tensorflow.keras.models import load_model\n",
    "\n",
    "model = load_model('a5.h5')\n",
    "\n",
    "test_dir = './test'\n",
    "\n",
    "test_data = []\n",
    "\n",
    "def preprocess_test_images(dir):\n",
    "    for image_file in os.listdir(dir):\n",
    "        image_path = os.path.join(dir, image_file)\n",
    "        image = cv2.imread(image_path)\n",
    "        image = cv2.resize(image, (128, 128))\n",
    "        image = image / 255.0\n",
    "        test_data.append((image_file, image))\n",
    "\n",
    "preprocess_test_images(test_dir)\n",
    "\n",
    "test_filenames, test_images = zip(*test_data)\n",
    "\n",
    "test_images = np.array(test_images)\n",
    "\n",
    "predictions = model.predict(test_images)\n",
    "\n",
    "predicted_classes = np.argmax(predictions, axis=1)\n",
    "\n",
    "root_dir = './root_directory3'\n",
    "os.makedirs(root_dir, exist_ok=True)\n",
    "\n",
    "for class_label in range(5): \n",
    "    class_dir = os.path.join(root_dir, f'class_{class_label}')\n",
    "    os.makedirs(class_dir, exist_ok=True)\n",
    "\n",
    "for i, file in enumerate(test_filenames):\n",
    "    class_label = predicted_classes[i]\n",
    "    source_path = os.path.join(test_dir, file)\n",
    "    target_dir = os.path.join(root_dir, f'class_{class_label}')\n",
    "    target_path = os.path.join(target_dir, file)\n",
    "\n",
    "    shutil.copy(source_path, target_path)\n",
    "\n",
    "print(\"Файлы перенесены\")\n"
   ]
  },
  {
   "cell_type": "code",
   "execution_count": null,
   "id": "f994d1b3",
   "metadata": {},
   "outputs": [],
   "source": [
    "import csv\n",
    "\n",
    "csv_file = 'etovse.csv'\n",
    "csv_data = []\n",
    "\n",
    "for file, predicted_label in zip(os.listdir(test_dir), predicted_labels):\n",
    "    if not file.startswith('.ipynb_checkpoints'):\n",
    "        if predicted_label > 1:\n",
    "            predicted_label = 1\n",
    "        file_name, file_extension = os.path.splitext(file)\n",
    "        csv_data.append((file_name.replace('.jpeg', ''), predicted_label))\n",
    "\n",
    "with open (csv_file, 'w', newline='') as file:\n",
    "    writer = csv.writer(file)\n",
    "    writer.writerow(['file_index', 'class'])\n",
    "    writer.writerows(csv_data)\n"
   ]
  },
  {
   "cell_type": "code",
   "execution_count": null,
   "id": "b62caae2",
   "metadata": {},
   "outputs": [],
   "source": []
  }
 ],
 "metadata": {
  "kernelspec": {
   "display_name": "Python 3 (ipykernel)",
   "language": "python",
   "name": "python3"
  },
  "language_info": {
   "codemirror_mode": {
    "name": "ipython",
    "version": 3
   },
   "file_extension": ".py",
   "mimetype": "text/x-python",
   "name": "python",
   "nbconvert_exporter": "python",
   "pygments_lexer": "ipython3",
   "version": "3.11.4"
  }
 },
 "nbformat": 4,
 "nbformat_minor": 5
}
