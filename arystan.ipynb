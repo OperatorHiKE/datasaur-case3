{
 "cells": [
  {
   "cell_type": "code",
   "execution_count": 1,
   "id": "b7340da4",
   "metadata": {},
   "outputs": [],
   "source": [
    "import cv2\n",
    "import tensorflow as tf\n",
    "import numpy as np\n",
    "import os\n",
    "from sklearn.model_selection import train_test_split \n",
    "from tensorflow.keras.utils import to_categorical"
   ]
  },
  {
   "cell_type": "code",
   "execution_count": 2,
   "id": "05a580b7",
   "metadata": {},
   "outputs": [],
   "source": [
    "train_dir = './train'\n",
    "correct_dir = os.path.join(train_dir, 'correct/0-correct')\n",
    "not_brake_stand = os.path.join(train_dir, 'fake/1-not-on-the-brake-stand')\n",
    "from_screen = os.path.join(train_dir, 'fake/2-from-the-screen')\n",
    "from_screen_photoshop = os.path.join(train_dir, 'fake/3-from-the-screen+photoshop')\n",
    "photoshop = os.path.join(train_dir, 'fake/4-photoshop')"
   ]
  },
  {
   "cell_type": "code",
   "execution_count": 3,
   "id": "0f4b35c8",
   "metadata": {},
   "outputs": [],
   "source": [
    "label_categories = {\n",
    "    'correct': 0,\n",
    "    'not_brake_stand': 1,\n",
    "    'from_screen': 2,\n",
    "    'from_screen_photoshop': 3,\n",
    "    'photoshop': 4\n",
    "}\n",
    "\n",
    "data = []\n",
    "labels = []\n",
    "\n",
    "def classifyImages(dir, label):\n",
    "    for image_file in os.listdir(dir):\n",
    "        image_path = os.path.join(dir, image_file)\n",
    "        image = cv2.imread(image_path)\n",
    "        image = cv2.resize(image, (128, 128))\n",
    "        data.append(image)\n",
    "        labels.append(label)\n",
    "\n",
    "\n",
    "classifyImages(correct_dir, 0)\n",
    "classifyImages(not_brake_stand, 1)\n",
    "classifyImages(from_screen, 2)\n",
    "classifyImages(from_screen_photoshop, 3)\n",
    "classifyImages(photoshop, 4)\n",
    "\n",
    "images = np.array(data)\n",
    "images = images / 255.0 \n",
    "labels = np.array(labels)\n",
    "\n",
    "labels = to_categorical(labels, num_classes=5)\n"
   ]
  },
  {
   "cell_type": "code",
   "execution_count": 4,
   "id": "738c90f5",
   "metadata": {},
   "outputs": [],
   "source": [
    "X_train, X_val, y_train, y_val = train_test_split(images, labels, test_size=0.2, random_state=42)"
   ]
  },
  {
   "cell_type": "code",
   "execution_count": 5,
   "id": "bdf5472c",
   "metadata": {},
   "outputs": [
    {
     "name": "stdout",
     "output_type": "stream",
     "text": [
      "Model: \"model\"\n",
      "_________________________________________________________________\n",
      " Layer (type)                Output Shape              Param #   \n",
      "=================================================================\n",
      " input_1 (InputLayer)        [(None, 128, 128, 3)]     0         \n",
      "                                                                 \n",
      " conv2d (Conv2D)             (None, 126, 126, 32)      896       \n",
      "                                                                 \n",
      " max_pooling2d (MaxPooling2  (None, 63, 63, 32)        0         \n",
      " D)                                                              \n",
      "                                                                 \n",
      " conv2d_1 (Conv2D)           (None, 61, 61, 64)        18496     \n",
      "                                                                 \n",
      " max_pooling2d_1 (MaxPoolin  (None, 30, 30, 64)        0         \n",
      " g2D)                                                            \n",
      "                                                                 \n",
      " conv2d_2 (Conv2D)           (None, 28, 28, 128)       73856     \n",
      "                                                                 \n",
      " max_pooling2d_2 (MaxPoolin  (None, 14, 14, 128)       0         \n",
      " g2D)                                                            \n",
      "                                                                 \n",
      " flatten (Flatten)           (None, 25088)             0         \n",
      "                                                                 \n",
      " dense (Dense)               (None, 128)               3211392   \n",
      "                                                                 \n",
      " dropout (Dropout)           (None, 128)               0         \n",
      "                                                                 \n",
      " dense_1 (Dense)             (None, 5)                 645       \n",
      "                                                                 \n",
      "=================================================================\n",
      "Total params: 3305285 (12.61 MB)\n",
      "Trainable params: 3305285 (12.61 MB)\n",
      "Non-trainable params: 0 (0.00 Byte)\n",
      "_________________________________________________________________\n"
     ]
    }
   ],
   "source": [
    "import tensorflow as tf\n",
    "from tensorflow.keras.layers import Input, Conv2D, MaxPooling2D, Flatten, Dense, Dropout\n",
    "from tensorflow.keras.models import Model\n",
    "\n",
    "input_layer = Input(shape=(128, 128, 3)) \n",
    "\n",
    "# Convolutional layers\n",
    "conv1 = Conv2D(32, (3, 3), activation='relu')(input_layer)\n",
    "pool1 = MaxPooling2D((2, 2))(conv1)\n",
    "conv2 = Conv2D(64, (3, 3), activation='relu')(pool1)\n",
    "pool2 = MaxPooling2D((2, 2))(conv2)\n",
    "conv3 = Conv2D(128, (3, 3), activation='relu')(pool2)\n",
    "pool3 = MaxPooling2D((2, 2))(conv3)\n",
    "flatten = Flatten()(pool3)\n",
    "dense1 = Dense(128, activation='relu')(flatten)\n",
    "dropout = Dropout(0.5)(dense1)\n",
    "output_layer = Dense(5, activation='softmax')(dropout)\n",
    "\n",
    "model = Model(inputs=input_layer, outputs=output_layer)\n",
    "\n",
    "model.compile(optimizer='adam', loss='categorical_crossentropy', metrics=['accuracy'])\n",
    "\n",
    "model.summary()\n"
   ]
  },
  {
   "cell_type": "code",
   "execution_count": 6,
   "id": "14d12dbb",
   "metadata": {},
   "outputs": [
    {
     "name": "stdout",
     "output_type": "stream",
     "text": [
      "Epoch 1/6\n",
      "165/165 [==============================] - 93s 545ms/step - loss: 0.6906 - accuracy: 0.7792 - val_loss: 0.4097 - val_accuracy: 0.8550\n",
      "Epoch 2/6\n",
      "165/165 [==============================] - 85s 515ms/step - loss: 0.3941 - accuracy: 0.8698 - val_loss: 0.3198 - val_accuracy: 0.8755\n",
      "Epoch 3/6\n",
      "165/165 [==============================] - 83s 505ms/step - loss: 0.3311 - accuracy: 0.8857 - val_loss: 0.3002 - val_accuracy: 0.8876\n",
      "Epoch 4/6\n",
      "165/165 [==============================] - 84s 508ms/step - loss: 0.2785 - accuracy: 0.9030 - val_loss: 0.2865 - val_accuracy: 0.9005\n",
      "Epoch 5/6\n",
      "165/165 [==============================] - 85s 516ms/step - loss: 0.2365 - accuracy: 0.9151 - val_loss: 0.2895 - val_accuracy: 0.8990\n",
      "Epoch 6/6\n",
      "165/165 [==============================] - 84s 512ms/step - loss: 0.2148 - accuracy: 0.9233 - val_loss: 0.2766 - val_accuracy: 0.9043\n"
     ]
    }
   ],
   "source": [
    "history = model.fit(X_train, y_train, epochs=6, batch_size=32, validation_data=(X_val, y_val))"
   ]
  },
  {
   "cell_type": "code",
   "execution_count": 7,
   "id": "fb0049d9",
   "metadata": {},
   "outputs": [
    {
     "name": "stderr",
     "output_type": "stream",
     "text": [
      "C:\\Users\\zhulu\\AppData\\Local\\Programs\\Python\\Python311\\Lib\\site-packages\\keras\\src\\engine\\training.py:3079: UserWarning: You are saving your model as an HDF5 file via `model.save()`. This file format is considered legacy. We recommend using instead the native Keras format, e.g. `model.save('my_model.keras')`.\n",
      "  saving_api.save_model(\n"
     ]
    }
   ],
   "source": [
    "model.save('a7.h5')"
   ]
  },
  {
   "cell_type": "code",
   "execution_count": 28,
   "id": "29dd0e5d",
   "metadata": {},
   "outputs": [],
   "source": [
    "test_dir = './test2'\n",
    "test_data = []\n",
    "for file in os.listdir(test_dir):\n",
    "    img_path = os.path.join(test_dir, file)\n",
    "    try:\n",
    "        img = cv2.imread(img_path)\n",
    "        if img is not None:\n",
    "            img = cv2.resize(img, (128,128))\n",
    "            test_data.append(img)\n",
    "        else:\n",
    "            print(f\"Skipping {file}\")\n",
    "    except e:\n",
    "        print(e)\n",
    "        \n",
    "test_data = np.array(test_data) / 255.0\n",
    "\n",
    "\n"
   ]
  },
  {
   "cell_type": "code",
   "execution_count": 29,
   "id": "69ae141c",
   "metadata": {},
   "outputs": [
    {
     "name": "stdout",
     "output_type": "stream",
     "text": [
      "1/1 [==============================] - 0s 62ms/step\n"
     ]
    }
   ],
   "source": [
    "predict = model.predict(test_data)"
   ]
  },
  {
   "cell_type": "code",
   "execution_count": 30,
   "id": "ee41b743",
   "metadata": {},
   "outputs": [],
   "source": [
    "predicted_labels = np.argmax(predict, axis=1)\n"
   ]
  },
  {
   "cell_type": "code",
   "execution_count": 32,
   "id": "946c389c",
   "metadata": {
    "scrolled": true
   },
   "outputs": [
    {
     "name": "stdout",
     "output_type": "stream",
     "text": [
      "1/1 [==============================] - 0s 217ms/step\n",
      "Файлы перенесены и класс отображен на изображениях.\n"
     ]
    }
   ],
   "source": [
    "import os\n",
    "import shutil\n",
    "import cv2\n",
    "import numpy as np\n",
    "from tensorflow.keras.models import load_model\n",
    "\n",
    "model = load_model('a7.h5')\n",
    "\n",
    "test_dir = './test2'\n",
    "\n",
    "test_data = []\n",
    "\n",
    "def preprocess_test_images(dir):\n",
    "    for image_file in os.listdir(dir):\n",
    "        image_path = os.path.join(dir, image_file)\n",
    "        image = cv2.imread(image_path)\n",
    "        image = cv2.resize(image, (128, 128))\n",
    "        image = image / 255.0\n",
    "        test_data.append((image_file, image))\n",
    "\n",
    "preprocess_test_images(test_dir)\n",
    "\n",
    "test_filenames, test_images = zip(*test_data)\n",
    "\n",
    "test_images = np.array(test_images)\n",
    "\n",
    "predictions = model.predict(test_images)\n",
    "\n",
    "predicted_classes = np.argmax(predictions, axis=1)\n",
    "\n",
    "root_dir = './testtg'\n",
    "os.makedirs(root_dir, exist_ok=True)\n",
    "\n",
    "for class_label in range(5):\n",
    "    class_dir = os.path.join(root_dir, f'class_{class_label}')\n",
    "    os.makedirs(class_dir, exist_ok=True)\n",
    "\n",
    "low_prob_dir = os.path.join(root_dir, 'low_probability')\n",
    "os.makedirs(low_prob_dir, exist_ok=True)\n",
    "\n",
    "for i, file in enumerate(test_filenames):\n",
    "    class_label = predicted_classes[i]\n",
    "    source_path = os.path.join(test_dir, file)\n",
    "    \n",
    "    if predictions[i][class_label] < 0.55:\n",
    "        target_dir = low_prob_dir\n",
    "    else:\n",
    "        target_dir = os.path.join(root_dir, f'class_{class_label}')\n",
    "    \n",
    "    target_path = os.path.join(target_dir, file)\n",
    "\n",
    "    shutil.copy(source_path, target_path)\n",
    "\n",
    "    img = cv2.imread(target_path)\n",
    "    font = cv2.FONT_HERSHEY_SIMPLEX\n",
    "    text = f'Class: {class_label}'\n",
    "    org = (10, 30) \n",
    "    font_scale = 1\n",
    "    color = (255, 255, 255)\n",
    "    thickness = 2\n",
    "    img = cv2.putText(img, text, org, font, font_scale, color, thickness)\n",
    "\n",
    "    cv2.imwrite(target_path, img)\n",
    "\n",
    "print(\"Файлы перенесены и класс отображен на изображениях.\")\n"
   ]
  },
  {
   "cell_type": "code",
   "execution_count": 33,
   "id": "caa25fed",
   "metadata": {},
   "outputs": [
    {
     "name": "stdout",
     "output_type": "stream",
     "text": [
      "1/1 [==============================] - 0s 56ms/step\n",
      "File: 23344641.jpeg, Predicted Label: 1\n",
      "Class Probabilities:\n",
      "Class 0: 0.2300\n",
      "Class 1: 0.3727\n",
      "Class 2: 0.2749\n",
      "Class 3: 0.0076\n",
      "Class 4: 0.1148\n",
      "May have a mistake\n",
      "File: 23389951.jpeg, Predicted Label: 3\n",
      "Class Probabilities:\n",
      "Class 0: 0.1181\n",
      "Class 1: 0.0050\n",
      "Class 2: 0.0553\n",
      "Class 3: 0.8031\n",
      "Class 4: 0.0184\n",
      "File: 23390645.jpeg, Predicted Label: 0\n",
      "Class Probabilities:\n",
      "Class 0: 0.8733\n",
      "Class 1: 0.1154\n",
      "Class 2: 0.0026\n",
      "Class 3: 0.0005\n",
      "Class 4: 0.0081\n",
      "File: 23516653.jpeg, Predicted Label: 2\n",
      "Class Probabilities:\n",
      "Class 0: 0.0929\n",
      "Class 1: 0.0141\n",
      "Class 2: 0.6092\n",
      "Class 3: 0.0022\n",
      "Class 4: 0.2817\n",
      "File: asd.jpeg, Predicted Label: 0\n",
      "Class Probabilities:\n",
      "Class 0: 0.9306\n",
      "Class 1: 0.0306\n",
      "Class 2: 0.0007\n",
      "Class 3: 0.0002\n",
      "Class 4: 0.0381\n"
     ]
    }
   ],
   "source": [
    "test_images = [item[1] for item in test_data]\n",
    "\n",
    "test_images = np.array(test_images)\n",
    "\n",
    "predict = model.predict(test_images)\n",
    "predicted_labels = np.argmax(predict, axis=1)\n",
    "\n",
    "for i, file in enumerate(os.listdir(test_dir)):\n",
    "    print(f\"File: {file}, Predicted Label: {predicted_labels[i]}\")\n",
    "    print(\"Class Probabilities:\")\n",
    "    \n",
    "    max_prob_index = np.argmax(predict[i])\n",
    "    for class_label, probability in enumerate(predict[i]):\n",
    "        print(f\"Class {class_label}: {probability:.4f}\")\n",
    "    \n",
    "    if max_prob_index == predicted_labels[i] and predict[i][max_prob_index] < 0.55:\n",
    "        print(\"May have a mistake\")\n"
   ]
  },
  {
   "cell_type": "code",
   "execution_count": 13,
   "id": "a5d3896b",
   "metadata": {},
   "outputs": [],
   "source": [
    "import csv\n",
    "\n",
    "csv_file = 'etovse6.csv'\n",
    "csv_data = []\n",
    "\n",
    "for file, predicted_label in zip(os.listdir(test_dir), predicted_labels):\n",
    "    if not file.startswith('.ipynb_checkpoints'):\n",
    "        if predicted_label > 1:\n",
    "            predicted_label = 1\n",
    "        file_name, file_extension = os.path.splitext(file)\n",
    "        csv_data.append((file_name.replace('.jpeg', ''), predicted_label))\n",
    "\n",
    "with open (csv_file, 'w', newline='') as file:\n",
    "    writer = csv.writer(file)\n",
    "    writer.writerow(['file_index', 'class'])\n",
    "    writer.writerows(csv_data)\n"
   ]
  },
  {
   "cell_type": "code",
   "execution_count": 26,
   "id": "71debfe3",
   "metadata": {},
   "outputs": [
    {
     "name": "stdout",
     "output_type": "stream",
     "text": [
      "Image '235116653.jpeg' not found in the test data.\n"
     ]
    }
   ],
   "source": [
    "import cv2\n",
    "import numpy as np\n",
    "\n",
    "def load_and_predict_image(image_name, model):\n",
    "    image_path = os.path.join(test_dir, image_name)\n",
    "    \n",
    "    if os.path.exists(image_path):\n",
    "        image = cv2.imread(image_path)\n",
    "        image = cv2.resize(image, (128, 128))\n",
    "        image = image / 255.0\n",
    "        image = np.expand_dims(image, axis=0)\n",
    "        probabilities = model.predict(image)\n",
    "        \n",
    "        print(f\"Probabilities for Image: {image_name}\")\n",
    "        for class_label, probability in enumerate(probabilities[0]):\n",
    "            print(f\"Class {class_label}: {probability:.4f}\")\n",
    "    else:\n",
    "        print(f\"Image '{image_name}' not found in the test data.\")\n",
    "\n",
    "image_name_to_check = \"235116653.jpeg\"\n",
    "load_and_predict_image(image_name_to_check, model)\n"
   ]
  },
  {
   "cell_type": "code",
   "execution_count": null,
   "id": "6384e9a2",
   "metadata": {},
   "outputs": [],
   "source": []
  }
 ],
 "metadata": {
  "kernelspec": {
   "display_name": "Python 3 (ipykernel)",
   "language": "python",
   "name": "python3"
  },
  "language_info": {
   "codemirror_mode": {
    "name": "ipython",
    "version": 3
   },
   "file_extension": ".py",
   "mimetype": "text/x-python",
   "name": "python",
   "nbconvert_exporter": "python",
   "pygments_lexer": "ipython3",
   "version": "3.11.4"
  }
 },
 "nbformat": 4,
 "nbformat_minor": 5
}
